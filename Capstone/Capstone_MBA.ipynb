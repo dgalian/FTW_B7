{
  "nbformat": 4,
  "nbformat_minor": 0,
  "metadata": {
    "colab": {
      "provenance": [],
      "authorship_tag": "ABX9TyOBDie8tgYh+quFK5xF/q6o",
      "include_colab_link": true
    },
    "kernelspec": {
      "name": "python3",
      "display_name": "Python 3"
    },
    "language_info": {
      "name": "python"
    }
  },
  "cells": [
    {
      "cell_type": "markdown",
      "metadata": {
        "id": "view-in-github",
        "colab_type": "text"
      },
      "source": [
        "<a href=\"https://colab.research.google.com/github/dgalian/FTW_B7/blob/main/Capstone/Capstone_MBA.ipynb\" target=\"_parent\"><img src=\"https://colab.research.google.com/assets/colab-badge.svg\" alt=\"Open In Colab\"/></a>"
      ]
    },
    {
      "cell_type": "markdown",
      "source": [
        "**Using Market Basket Analysis to determine the typical combination of ICD Categories per Claim**"
      ],
      "metadata": {
        "id": "F2yW1Amt6pA1"
      }
    },
    {
      "cell_type": "markdown",
      "source": [
        "# Import libraries and load dataset"
      ],
      "metadata": {
        "id": "iALtgUUsaKxF"
      }
    },
    {
      "cell_type": "code",
      "execution_count": 457,
      "metadata": {
        "id": "fzHB7j3daGpq"
      },
      "outputs": [],
      "source": [
        "# Importing\n",
        "import pandas as pd\n",
        "import numpy as np\n",
        "\n",
        "import matplotlib.pyplot as plt\n",
        "import seaborn as sns\n",
        "%matplotlib inline"
      ]
    },
    {
      "cell_type": "code",
      "source": [
        "# Load claims breakdown by diagnosis\n",
        "clm_icd = pd.read_csv('/content/CLM Breakdown csv.csv')"
      ],
      "metadata": {
        "id": "htUiQyr2tEX0"
      },
      "execution_count": 458,
      "outputs": []
    },
    {
      "cell_type": "code",
      "source": [
        "# Load ICD table\n",
        "icd_table = pd.read_excel('/content/icd_table.xlsx')"
      ],
      "metadata": {
        "id": "7ZQu4k4ynFi5"
      },
      "execution_count": 459,
      "outputs": []
    },
    {
      "cell_type": "markdown",
      "source": [
        "# Data Prep\n",
        "Profiling, Cleaning"
      ],
      "metadata": {
        "id": "AC9dldkbrnYW"
      }
    },
    {
      "cell_type": "code",
      "source": [
        "icd_table.info()"
      ],
      "metadata": {
        "colab": {
          "base_uri": "https://localhost:8080/"
        },
        "id": "Kh-iR450sh1Z",
        "outputId": "637a8183-1b26-4079-fb0c-845cded51a8a"
      },
      "execution_count": 460,
      "outputs": [
        {
          "output_type": "stream",
          "name": "stdout",
          "text": [
            "<class 'pandas.core.frame.DataFrame'>\n",
            "RangeIndex: 4343 entries, 0 to 4342\n",
            "Data columns (total 5 columns):\n",
            " #   Column       Non-Null Count  Dtype \n",
            "---  ------       --------------  ----- \n",
            " 0   icdno        4343 non-null   int64 \n",
            " 1   icdcategory  4343 non-null   int64 \n",
            " 2   icdgroup     4343 non-null   int64 \n",
            " 3   ICD CODE     4343 non-null   object\n",
            " 4   ICD DISEASE  4343 non-null   object\n",
            "dtypes: int64(3), object(2)\n",
            "memory usage: 169.8+ KB\n"
          ]
        }
      ]
    },
    {
      "cell_type": "code",
      "source": [
        "# Creating basket of claims\n",
        "basket = pd.merge(clm_icd, icd_table, on='icdno', how='left')"
      ],
      "metadata": {
        "id": "rk0MG3wQtXff"
      },
      "execution_count": 461,
      "outputs": []
    },
    {
      "cell_type": "code",
      "source": [
        "basket.info()"
      ],
      "metadata": {
        "colab": {
          "base_uri": "https://localhost:8080/"
        },
        "id": "3U5ruHcVtyaf",
        "outputId": "49ab7f0a-cc05-484b-ea51-4ecf68bc5fc2"
      },
      "execution_count": 462,
      "outputs": [
        {
          "output_type": "stream",
          "name": "stdout",
          "text": [
            "<class 'pandas.core.frame.DataFrame'>\n",
            "Int64Index: 382438 entries, 0 to 382437\n",
            "Data columns (total 16 columns):\n",
            " #   Column         Non-Null Count   Dtype  \n",
            "---  ------         --------------   -----  \n",
            " 0   cbdcode        382438 non-null  int64  \n",
            " 1   claimcode      382438 non-null  int64  \n",
            " 2   icdno          382438 non-null  int64  \n",
            " 3   doctorcode     382438 non-null  int64  \n",
            " 4   cptno          382438 non-null  int64  \n",
            " 5   sacode         382438 non-null  int64  \n",
            " 6   UNIT AMT       382438 non-null  float64\n",
            " 7   QTY            382438 non-null  float64\n",
            " 8   INCURRED AMT   382438 non-null  float64\n",
            " 9   HOSP BILL AMT  382438 non-null  float64\n",
            " 10  COVERED AMT    382438 non-null  float64\n",
            " 11  BILL TO        382438 non-null  object \n",
            " 12  icdcategory    382355 non-null  float64\n",
            " 13  icdgroup       382355 non-null  float64\n",
            " 14  ICD CODE       382355 non-null  object \n",
            " 15  ICD DISEASE    382355 non-null  object \n",
            "dtypes: float64(7), int64(6), object(3)\n",
            "memory usage: 49.6+ MB\n"
          ]
        }
      ]
    },
    {
      "cell_type": "code",
      "source": [
        "basket.isnull().sum()"
      ],
      "metadata": {
        "colab": {
          "base_uri": "https://localhost:8080/"
        },
        "id": "Ia5emdD4t3vG",
        "outputId": "ab9eb34b-5b7f-4489-87b9-0a08a3014ff2"
      },
      "execution_count": 463,
      "outputs": [
        {
          "output_type": "execute_result",
          "data": {
            "text/plain": [
              "cbdcode           0\n",
              "claimcode         0\n",
              "icdno             0\n",
              "doctorcode        0\n",
              "cptno             0\n",
              "sacode            0\n",
              "UNIT AMT          0\n",
              "QTY               0\n",
              "INCURRED AMT      0\n",
              "HOSP BILL AMT     0\n",
              "COVERED AMT       0\n",
              "BILL TO           0\n",
              "icdcategory      83\n",
              "icdgroup         83\n",
              "ICD CODE         83\n",
              "ICD DISEASE      83\n",
              "dtype: int64"
            ]
          },
          "metadata": {},
          "execution_count": 463
        }
      ]
    },
    {
      "cell_type": "code",
      "source": [
        "# Drop null values\n",
        "basket = basket.dropna()\n",
        "basket.isnull().sum()"
      ],
      "metadata": {
        "colab": {
          "base_uri": "https://localhost:8080/"
        },
        "id": "TpsPT8LSuJJJ",
        "outputId": "1cc12e8a-09d4-4921-f3bb-fbafb3ac3524"
      },
      "execution_count": 464,
      "outputs": [
        {
          "output_type": "execute_result",
          "data": {
            "text/plain": [
              "cbdcode          0\n",
              "claimcode        0\n",
              "icdno            0\n",
              "doctorcode       0\n",
              "cptno            0\n",
              "sacode           0\n",
              "UNIT AMT         0\n",
              "QTY              0\n",
              "INCURRED AMT     0\n",
              "HOSP BILL AMT    0\n",
              "COVERED AMT      0\n",
              "BILL TO          0\n",
              "icdcategory      0\n",
              "icdgroup         0\n",
              "ICD CODE         0\n",
              "ICD DISEASE      0\n",
              "dtype: int64"
            ]
          },
          "metadata": {},
          "execution_count": 464
        }
      ]
    },
    {
      "cell_type": "code",
      "source": [
        "basket['icdcategory'] = basket['icdcategory'].astype(int).astype(str)"
      ],
      "metadata": {
        "id": "Ps85__xuwYph"
      },
      "execution_count": 465,
      "outputs": []
    },
    {
      "cell_type": "code",
      "source": [
        "basket = basket[['claimcode','icdno','icdcategory','ICD CODE','ICD DISEASE']]\n",
        "basket.head()"
      ],
      "metadata": {
        "colab": {
          "base_uri": "https://localhost:8080/",
          "height": 206
        },
        "id": "MfWOoT-su3hd",
        "outputId": "31139576-f4cc-4c5b-9c3e-73e65569a87d"
      },
      "execution_count": 466,
      "outputs": [
        {
          "output_type": "execute_result",
          "data": {
            "text/plain": [
              "   claimcode  icdno icdcategory ICD CODE  \\\n",
              "0     203746   6127          84    G90.0   \n",
              "1     203913  40054         261      W55   \n",
              "2     203913  40054         261      W55   \n",
              "3     203913  40054         261      W55   \n",
              "4     203913  40054         261      W55   \n",
              "\n",
              "                                  ICD DISEASE  \n",
              "0  Idiopathic peripheral autonomic neuropathy  \n",
              "1                  Contact with other mammals  \n",
              "2                  Contact with other mammals  \n",
              "3                  Contact with other mammals  \n",
              "4                  Contact with other mammals  "
            ],
            "text/html": [
              "\n",
              "  <div id=\"df-5472acdc-a8fa-4671-986a-f38003596d96\">\n",
              "    <div class=\"colab-df-container\">\n",
              "      <div>\n",
              "<style scoped>\n",
              "    .dataframe tbody tr th:only-of-type {\n",
              "        vertical-align: middle;\n",
              "    }\n",
              "\n",
              "    .dataframe tbody tr th {\n",
              "        vertical-align: top;\n",
              "    }\n",
              "\n",
              "    .dataframe thead th {\n",
              "        text-align: right;\n",
              "    }\n",
              "</style>\n",
              "<table border=\"1\" class=\"dataframe\">\n",
              "  <thead>\n",
              "    <tr style=\"text-align: right;\">\n",
              "      <th></th>\n",
              "      <th>claimcode</th>\n",
              "      <th>icdno</th>\n",
              "      <th>icdcategory</th>\n",
              "      <th>ICD CODE</th>\n",
              "      <th>ICD DISEASE</th>\n",
              "    </tr>\n",
              "  </thead>\n",
              "  <tbody>\n",
              "    <tr>\n",
              "      <th>0</th>\n",
              "      <td>203746</td>\n",
              "      <td>6127</td>\n",
              "      <td>84</td>\n",
              "      <td>G90.0</td>\n",
              "      <td>Idiopathic peripheral autonomic neuropathy</td>\n",
              "    </tr>\n",
              "    <tr>\n",
              "      <th>1</th>\n",
              "      <td>203913</td>\n",
              "      <td>40054</td>\n",
              "      <td>261</td>\n",
              "      <td>W55</td>\n",
              "      <td>Contact with other mammals</td>\n",
              "    </tr>\n",
              "    <tr>\n",
              "      <th>2</th>\n",
              "      <td>203913</td>\n",
              "      <td>40054</td>\n",
              "      <td>261</td>\n",
              "      <td>W55</td>\n",
              "      <td>Contact with other mammals</td>\n",
              "    </tr>\n",
              "    <tr>\n",
              "      <th>3</th>\n",
              "      <td>203913</td>\n",
              "      <td>40054</td>\n",
              "      <td>261</td>\n",
              "      <td>W55</td>\n",
              "      <td>Contact with other mammals</td>\n",
              "    </tr>\n",
              "    <tr>\n",
              "      <th>4</th>\n",
              "      <td>203913</td>\n",
              "      <td>40054</td>\n",
              "      <td>261</td>\n",
              "      <td>W55</td>\n",
              "      <td>Contact with other mammals</td>\n",
              "    </tr>\n",
              "  </tbody>\n",
              "</table>\n",
              "</div>\n",
              "      <button class=\"colab-df-convert\" onclick=\"convertToInteractive('df-5472acdc-a8fa-4671-986a-f38003596d96')\"\n",
              "              title=\"Convert this dataframe to an interactive table.\"\n",
              "              style=\"display:none;\">\n",
              "        \n",
              "  <svg xmlns=\"http://www.w3.org/2000/svg\" height=\"24px\"viewBox=\"0 0 24 24\"\n",
              "       width=\"24px\">\n",
              "    <path d=\"M0 0h24v24H0V0z\" fill=\"none\"/>\n",
              "    <path d=\"M18.56 5.44l.94 2.06.94-2.06 2.06-.94-2.06-.94-.94-2.06-.94 2.06-2.06.94zm-11 1L8.5 8.5l.94-2.06 2.06-.94-2.06-.94L8.5 2.5l-.94 2.06-2.06.94zm10 10l.94 2.06.94-2.06 2.06-.94-2.06-.94-.94-2.06-.94 2.06-2.06.94z\"/><path d=\"M17.41 7.96l-1.37-1.37c-.4-.4-.92-.59-1.43-.59-.52 0-1.04.2-1.43.59L10.3 9.45l-7.72 7.72c-.78.78-.78 2.05 0 2.83L4 21.41c.39.39.9.59 1.41.59.51 0 1.02-.2 1.41-.59l7.78-7.78 2.81-2.81c.8-.78.8-2.07 0-2.86zM5.41 20L4 18.59l7.72-7.72 1.47 1.35L5.41 20z\"/>\n",
              "  </svg>\n",
              "      </button>\n",
              "      \n",
              "  <style>\n",
              "    .colab-df-container {\n",
              "      display:flex;\n",
              "      flex-wrap:wrap;\n",
              "      gap: 12px;\n",
              "    }\n",
              "\n",
              "    .colab-df-convert {\n",
              "      background-color: #E8F0FE;\n",
              "      border: none;\n",
              "      border-radius: 50%;\n",
              "      cursor: pointer;\n",
              "      display: none;\n",
              "      fill: #1967D2;\n",
              "      height: 32px;\n",
              "      padding: 0 0 0 0;\n",
              "      width: 32px;\n",
              "    }\n",
              "\n",
              "    .colab-df-convert:hover {\n",
              "      background-color: #E2EBFA;\n",
              "      box-shadow: 0px 1px 2px rgba(60, 64, 67, 0.3), 0px 1px 3px 1px rgba(60, 64, 67, 0.15);\n",
              "      fill: #174EA6;\n",
              "    }\n",
              "\n",
              "    [theme=dark] .colab-df-convert {\n",
              "      background-color: #3B4455;\n",
              "      fill: #D2E3FC;\n",
              "    }\n",
              "\n",
              "    [theme=dark] .colab-df-convert:hover {\n",
              "      background-color: #434B5C;\n",
              "      box-shadow: 0px 1px 3px 1px rgba(0, 0, 0, 0.15);\n",
              "      filter: drop-shadow(0px 1px 2px rgba(0, 0, 0, 0.3));\n",
              "      fill: #FFFFFF;\n",
              "    }\n",
              "  </style>\n",
              "\n",
              "      <script>\n",
              "        const buttonEl =\n",
              "          document.querySelector('#df-5472acdc-a8fa-4671-986a-f38003596d96 button.colab-df-convert');\n",
              "        buttonEl.style.display =\n",
              "          google.colab.kernel.accessAllowed ? 'block' : 'none';\n",
              "\n",
              "        async function convertToInteractive(key) {\n",
              "          const element = document.querySelector('#df-5472acdc-a8fa-4671-986a-f38003596d96');\n",
              "          const dataTable =\n",
              "            await google.colab.kernel.invokeFunction('convertToInteractive',\n",
              "                                                     [key], {});\n",
              "          if (!dataTable) return;\n",
              "\n",
              "          const docLinkHtml = 'Like what you see? Visit the ' +\n",
              "            '<a target=\"_blank\" href=https://colab.research.google.com/notebooks/data_table.ipynb>data table notebook</a>'\n",
              "            + ' to learn more about interactive tables.';\n",
              "          element.innerHTML = '';\n",
              "          dataTable['output_type'] = 'display_data';\n",
              "          await google.colab.output.renderOutput(dataTable, element);\n",
              "          const docLink = document.createElement('div');\n",
              "          docLink.innerHTML = docLinkHtml;\n",
              "          element.appendChild(docLink);\n",
              "        }\n",
              "      </script>\n",
              "    </div>\n",
              "  </div>\n",
              "  "
            ]
          },
          "metadata": {},
          "execution_count": 466
        }
      ]
    },
    {
      "cell_type": "code",
      "source": [
        "# Checking frequency of ICD categories\n",
        "basket['icdcategory'].value_counts().sort_values(ascending=False)"
      ],
      "metadata": {
        "colab": {
          "base_uri": "https://localhost:8080/"
        },
        "id": "XtPIZJVwa2aF",
        "outputId": "2484734e-e5d5-4812-b546-a1081e36353a"
      },
      "execution_count": 467,
      "outputs": [
        {
          "output_type": "execute_result",
          "data": {
            "text/plain": [
              "277    52205\n",
              "104    46489\n",
              "61     21493\n",
              "54     19404\n",
              "0      16693\n",
              "       ...  \n",
              "200        1\n",
              "281        1\n",
              "183        1\n",
              "28         1\n",
              "73         1\n",
              "Name: icdcategory, Length: 241, dtype: int64"
            ]
          },
          "metadata": {},
          "execution_count": 467
        }
      ]
    },
    {
      "cell_type": "code",
      "source": [
        "# Checking number of ICD categories per claim\n",
        "basket['claimcode'].value_counts().sort_values(ascending=False)"
      ],
      "metadata": {
        "colab": {
          "base_uri": "https://localhost:8080/"
        },
        "id": "MQhF81qPyaOH",
        "outputId": "f5c92be2-711e-4479-f474-325a0e507e88"
      },
      "execution_count": 468,
      "outputs": [
        {
          "output_type": "execute_result",
          "data": {
            "text/plain": [
              "264685    50\n",
              "241736    50\n",
              "281217    49\n",
              "226317    47\n",
              "279115    46\n",
              "          ..\n",
              "404850     1\n",
              "404851     1\n",
              "404852     1\n",
              "404854     1\n",
              "658022     1\n",
              "Name: claimcode, Length: 166947, dtype: int64"
            ]
          },
          "metadata": {},
          "execution_count": 468
        }
      ]
    },
    {
      "cell_type": "code",
      "source": [
        "# Average number of ICD categories per claim\n",
        "basket['claimcode'].value_counts().mean()"
      ],
      "metadata": {
        "colab": {
          "base_uri": "https://localhost:8080/"
        },
        "id": "dg5h_Bo4yuD8",
        "outputId": "919a080b-6a45-4270-e3f3-9c05c2b559ba"
      },
      "execution_count": 469,
      "outputs": [
        {
          "output_type": "execute_result",
          "data": {
            "text/plain": [
              "2.2902777528197573"
            ]
          },
          "metadata": {},
          "execution_count": 469
        }
      ]
    },
    {
      "cell_type": "markdown",
      "source": [
        "**Checking the different baskets**"
      ],
      "metadata": {
        "id": "wEuUlvSH4ymI"
      }
    },
    {
      "cell_type": "code",
      "source": [
        "# Get list ICD Categories by Claim number\n",
        "basket_bag = basket.groupby(['claimcode']).agg(lambda col: ','.join(col)).reset_index()"
      ],
      "metadata": {
        "colab": {
          "base_uri": "https://localhost:8080/"
        },
        "id": "XWLr578JziMO",
        "outputId": "f5320c06-419e-471b-b621-14ca04c8f6d9"
      },
      "execution_count": 470,
      "outputs": [
        {
          "output_type": "stream",
          "name": "stderr",
          "text": [
            "/usr/local/lib/python3.8/dist-packages/pandas/core/groupby/generic.py:303: FutureWarning: Dropping invalid columns in SeriesGroupBy.agg is deprecated. In a future version, a TypeError will be raised. Before calling .agg, select only columns which should be valid for the aggregating function.\n",
            "  results[key] = self.aggregate(func)\n"
          ]
        }
      ]
    },
    {
      "cell_type": "code",
      "source": [
        "store_items = basket_bag['icdcategory'].apply(lambda t: t.split(','))"
      ],
      "metadata": {
        "id": "UMrgTert35iC"
      },
      "execution_count": 471,
      "outputs": []
    },
    {
      "cell_type": "code",
      "source": [
        "store_items = list(store_items)"
      ],
      "metadata": {
        "id": "h7rz1zlY38r_"
      },
      "execution_count": 472,
      "outputs": []
    },
    {
      "cell_type": "markdown",
      "source": [
        "# Generating Association Rule"
      ],
      "metadata": {
        "id": "4sWZDwYVy8Ul"
      }
    },
    {
      "cell_type": "code",
      "source": [
        "# Import permutations from the itertools module\n",
        "from itertools import permutations"
      ],
      "metadata": {
        "id": "e5MESkY0zIJS"
      },
      "execution_count": 473,
      "outputs": []
    },
    {
      "cell_type": "code",
      "source": [
        "# Define the set of store items\n",
        "flattened = [i for s in store_items for i in s]\n",
        "store_items = list(set(flattened))"
      ],
      "metadata": {
        "id": "Rimu6xLx1CWy"
      },
      "execution_count": 474,
      "outputs": []
    },
    {
      "cell_type": "code",
      "source": [
        "# Generate all possible rules from basket\n",
        "rules = list(permutations(store_items, 2))\n",
        "len(rules)"
      ],
      "metadata": {
        "colab": {
          "base_uri": "https://localhost:8080/"
        },
        "id": "dGDqDltg1FRh",
        "outputId": "4620eb65-4cdd-4ac3-c963-c2c0f7394ea4"
      },
      "execution_count": 475,
      "outputs": [
        {
          "output_type": "execute_result",
          "data": {
            "text/plain": [
              "57840"
            ]
          },
          "metadata": {},
          "execution_count": 475
        }
      ]
    },
    {
      "cell_type": "markdown",
      "source": [
        "# Support Metric"
      ],
      "metadata": {
        "id": "TxIr2kkW5F3E"
      }
    },
    {
      "cell_type": "markdown",
      "source": [
        "**One Hot Encoding**"
      ],
      "metadata": {
        "id": "x0Sc_fHg4tL3"
      }
    },
    {
      "cell_type": "code",
      "source": [
        "# Import the transaction encoder function from mlxtend\n",
        "from mlxtend.preprocessing import TransactionEncoder\n",
        "\n",
        "# Instantiate transaction encoder and identify unique items in transactions\n",
        "encoder = TransactionEncoder().fit(store_items)\n",
        "\n",
        "# One-hot encode transactions\n",
        "onehot = encoder.transform(store_items)\n",
        "\n",
        "# Convert one-hot encoded data to DataFrame\n",
        "onehot = pd.DataFrame(onehot, columns = encoder.columns_)\n",
        "\n",
        "# Print the one-hot encoded transaction dataset\n",
        "print(onehot)"
      ],
      "metadata": {
        "colab": {
          "base_uri": "https://localhost:8080/"
        },
        "id": "Ig2-NqvZ5L0-",
        "outputId": "e67047d7-f227-41db-a900-fa607c63292d"
      },
      "execution_count": 476,
      "outputs": [
        {
          "output_type": "stream",
          "name": "stdout",
          "text": [
            "         0      1      2      3      4      5      6      7      8      9\n",
            "0    False   True  False   True  False  False  False  False  False  False\n",
            "1    False   True  False   True  False  False   True  False  False  False\n",
            "2     True   True   True  False  False  False  False  False  False  False\n",
            "3     True  False  False   True  False  False  False  False  False  False\n",
            "4    False   True  False  False  False  False  False   True  False   True\n",
            "..     ...    ...    ...    ...    ...    ...    ...    ...    ...    ...\n",
            "236  False   True  False  False  False  False   True   True  False  False\n",
            "237  False   True   True  False   True  False  False  False  False  False\n",
            "238  False   True   True  False  False   True  False  False  False  False\n",
            "239  False   True   True  False  False  False  False  False  False  False\n",
            "240  False  False   True   True  False  False  False  False  False  False\n",
            "\n",
            "[241 rows x 10 columns]\n"
          ]
        }
      ]
    },
    {
      "cell_type": "markdown",
      "source": [
        "**Compute the Support**"
      ],
      "metadata": {
        "id": "bY4nYqxO5fwr"
      }
    },
    {
      "cell_type": "code",
      "source": [
        "# Compute the support\n",
        "support = onehot.mean()\n",
        "\n",
        "# Print the support\n",
        "print(support)"
      ],
      "metadata": {
        "colab": {
          "base_uri": "https://localhost:8080/"
        },
        "id": "_DsU9K--5lqL",
        "outputId": "9320235c-7650-4006-8b84-b7c7f8026f30"
      },
      "execution_count": 477,
      "outputs": [
        {
          "output_type": "stream",
          "name": "stdout",
          "text": [
            "0    0.182573\n",
            "1    0.502075\n",
            "2    0.398340\n",
            "3    0.203320\n",
            "4    0.195021\n",
            "5    0.186722\n",
            "6    0.174274\n",
            "7    0.170124\n",
            "8    0.174274\n",
            "9    0.174274\n",
            "dtype: float64\n"
          ]
        }
      ]
    }
  ]
}